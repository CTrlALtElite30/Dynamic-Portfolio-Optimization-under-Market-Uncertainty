{
 "cells": [
  {
   "cell_type": "code",
   "execution_count": 1,
   "id": "dac20f67-2234-4f62-8b17-d42648ee8593",
   "metadata": {},
   "outputs": [
    {
     "name": "stdout",
     "output_type": "stream",
     "text": [
      "Step: 1, Cash: 75332.22, Pos: 1, Value: 99748.06\n",
      "Step: 2, Cash: 75332.22, Pos: 1, Value: 99967.43\n",
      "Step: 3, Cash: 99967.43, Pos: 0, Value: 99967.43\n",
      "Step: 4, Cash: 75153.74, Pos: 1, Value: 99953.72\n",
      "Step: 5, Cash: 75153.74, Pos: 1, Value: 100300.13\n"
     ]
    }
   ],
   "source": [
    "# Env Test - Discrete Action Space (Buy/Hold/Sell)\n",
    "# first you need to install gym library or gymnasium in your .venv\n",
    "\n",
    "# Quick Test : \n",
    "import numpy as np\n",
    "from trading_env_discrete import TradingEnvDiscrete\n",
    "\n",
    "# Load saved dataset \n",
    "data = np.load(r\"E:\\project\\outputs\\datasets\\states_v1_single_asset.npz\")\n",
    "\n",
    "X_train, prices = data[\"X_train\"], data[\"prices\"]\n",
    "\n",
    "# Create environment\n",
    "env = TradingEnvDiscrete(states=X_train, prices=prices[:len(X_train)])\n",
    "\n",
    "# Test run\n",
    "obs = env.reset()\n",
    "for t in range(5):\n",
    "    action = env.action_space.sample()   # random action\n",
    "    obs, reward, terminated, truncated, info = env.step(action)\n",
    "    done = terminated or truncated\n",
    "    env.render()\n"
   ]
  },
  {
   "cell_type": "code",
   "execution_count": null,
   "id": "af5c30b0-fe86-46f4-a070-dea090f840e4",
   "metadata": {},
   "outputs": [],
   "source": []
  }
 ],
 "metadata": {
  "kernelspec": {
   "display_name": "Python 3 (ipykernel)",
   "language": "python",
   "name": "python3"
  },
  "language_info": {
   "codemirror_mode": {
    "name": "ipython",
    "version": 3
   },
   "file_extension": ".py",
   "mimetype": "text/x-python",
   "name": "python",
   "nbconvert_exporter": "python",
   "pygments_lexer": "ipython3",
   "version": "3.13.7"
  }
 },
 "nbformat": 4,
 "nbformat_minor": 5
}
