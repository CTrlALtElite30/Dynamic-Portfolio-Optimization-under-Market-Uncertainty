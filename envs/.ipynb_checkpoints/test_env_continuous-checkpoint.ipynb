{
 "cells": [
  {
   "cell_type": "code",
   "execution_count": 1,
   "id": "4a34142e-6fac-419d-851b-90453a088939",
   "metadata": {},
   "outputs": [
    {
     "name": "stdout",
     "output_type": "stream",
     "text": [
      "Step: 1, Allocation: 0.78, Portfolio Value: 100000.00\n",
      "Step: 2, Allocation: 0.71, Portfolio Value: 99273.35\n",
      "Step: 3, Allocation: -0.10, Portfolio Value: 99184.34\n",
      "Step: 4, Allocation: -0.66, Portfolio Value: 98710.43\n",
      "Step: 5, Allocation: 0.87, Portfolio Value: 98663.01\n"
     ]
    }
   ],
   "source": [
    "# Test Continuous env: \n",
    "import numpy as np\n",
    "from trading_env_continuous import TradingEnvContinuous\n",
    "\n",
    "# Load dataset\n",
    "data = np.load(r\"E:\\project\\outputs\\datasets\\states_v1_single_asset.npz\")\n",
    "\n",
    "X_train, prices = data[\"X_train\"], data[\"prices\"]\n",
    "\n",
    "# Create environment\n",
    "env = TradingEnvContinuous(states=X_train, prices=prices[:len(X_train)])\n",
    "\n",
    "# Test run\n",
    "obs = env.reset()\n",
    "for t in range(5):\n",
    "    action = np.random.uniform(-1, 1, size=(1,))  # random allocation\n",
    "    obs, reward, terminated, truncated, info = env.step(action)\n",
    "    done = terminated or truncated\n",
    "    env.render()\n"
   ]
  },
  {
   "cell_type": "code",
   "execution_count": null,
   "id": "ed4ed14a-72fb-49d4-a999-ccd1bc23ff21",
   "metadata": {},
   "outputs": [],
   "source": []
  }
 ],
 "metadata": {
  "kernelspec": {
   "display_name": "Python 3 (ipykernel)",
   "language": "python",
   "name": "python3"
  },
  "language_info": {
   "codemirror_mode": {
    "name": "ipython",
    "version": 3
   },
   "file_extension": ".py",
   "mimetype": "text/x-python",
   "name": "python",
   "nbconvert_exporter": "python",
   "pygments_lexer": "ipython3",
   "version": "3.13.7"
  }
 },
 "nbformat": 4,
 "nbformat_minor": 5
}
