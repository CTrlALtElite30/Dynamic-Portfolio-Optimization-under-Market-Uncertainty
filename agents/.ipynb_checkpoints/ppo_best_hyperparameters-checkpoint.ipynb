{
 "cells": [
  {
   "cell_type": "code",
   "execution_count": null,
   "id": "da48d009-ba66-4702-b2cc-70a0a9936859",
   "metadata": {
    "execution": {
     "iopub.execute_input": "2025-08-22T11:29:40.554344Z",
     "iopub.status.busy": "2025-08-22T11:29:40.553416Z",
     "iopub.status.idle": "2025-08-22T11:31:04.644484Z",
     "shell.execute_reply": "2025-08-22T11:31:04.642607Z"
    }
   },
   "outputs": [
    {
     "name": "stderr",
     "output_type": "stream",
     "text": [
      "Gym has been unmaintained since 2022 and does not support NumPy 2.0 amongst other critical functionality.\n",
      "Please upgrade to Gymnasium, the maintained drop-in replacement of Gym, or contact the authors of your software and request that they upgrade.\n",
      "Users of this version of Gym should be able to simply replace 'import gym' with 'import gymnasium as gym' in the vast majority of cases.\n",
      "See the migration guide at https://gymnasium.farama.org/introduction/migration_guide/ for additional information.\n"
     ]
    },
    {
     "name": "stdout",
     "output_type": "stream",
     "text": [
      "Using cpu device\n"
     ]
    },
    {
     "name": "stdout",
     "output_type": "stream",
     "text": [
      "Starting PPO training...\n",
      "Logging to E:/project\\outputs\\logs\\ppo_continuous_gamma095\\PPO_7\n"
     ]
    },
    {
     "name": "stdout",
     "output_type": "stream",
     "text": [
      "Eval num_timesteps=2000, episode_reward=-0.00 +/- 0.00\n",
      "Episode length: 182.00 +/- 0.00\n",
      "---------------------------------\n",
      "| eval/              |          |\n",
      "|    mean_ep_length  | 182      |\n",
      "|    mean_reward     | -0.00464 |\n",
      "| time/              |          |\n",
      "|    total_timesteps | 2000     |\n",
      "---------------------------------\n"
     ]
    },
    {
     "name": "stdout",
     "output_type": "stream",
     "text": [
      "New best mean reward!\n",
      "---------------------------------\n",
      "| rollout/           |          |\n",
      "|    ep_len_mean     | 856      |\n",
      "|    ep_rew_mean     | 0.0332   |\n",
      "| time/              |          |\n",
      "|    fps             | 517      |\n",
      "|    iterations      | 1        |\n",
      "|    time_elapsed    | 3        |\n",
      "|    total_timesteps | 2048     |\n",
      "---------------------------------\n"
     ]
    },
    {
     "name": "stdout",
     "output_type": "stream",
     "text": [
      "Eval num_timesteps=4000, episode_reward=0.03 +/- 0.00\n",
      "Episode length: 182.00 +/- 0.00\n",
      "------------------------------------------\n",
      "| eval/                   |              |\n",
      "|    mean_ep_length       | 182          |\n",
      "|    mean_reward          | 0.0336       |\n",
      "| time/                   |              |\n",
      "|    total_timesteps      | 4000         |\n",
      "| train/                  |              |\n",
      "|    approx_kl            | 0.0004616737 |\n",
      "|    clip_fraction        | 0            |\n",
      "|    clip_range           | 0.2          |\n",
      "|    entropy_loss         | -1.42        |\n",
      "|    explained_variance   | -1.98        |\n",
      "|    learning_rate        | 3e-05        |\n",
      "|    loss                 | -0.0191      |\n",
      "|    n_updates            | 10           |\n",
      "|    policy_gradient_loss | -0.000986    |\n",
      "|    std                  | 1            |\n",
      "|    value_loss           | 0.00394      |\n",
      "------------------------------------------\n"
     ]
    },
    {
     "name": "stdout",
     "output_type": "stream",
     "text": [
      "New best mean reward!\n",
      "---------------------------------\n",
      "| rollout/           |          |\n",
      "|    ep_len_mean     | 856      |\n",
      "|    ep_rew_mean     | -0.0947  |\n",
      "| time/              |          |\n",
      "|    fps             | 373      |\n",
      "|    iterations      | 2        |\n",
      "|    time_elapsed    | 10       |\n",
      "|    total_timesteps | 4096     |\n",
      "---------------------------------\n"
     ]
    },
    {
     "name": "stdout",
     "output_type": "stream",
     "text": [
      "Eval num_timesteps=6000, episode_reward=0.19 +/- 0.00\n",
      "Episode length: 182.00 +/- 0.00\n",
      "-----------------------------------------\n",
      "| eval/                   |             |\n",
      "|    mean_ep_length       | 182         |\n",
      "|    mean_reward          | 0.187       |\n",
      "| time/                   |             |\n",
      "|    total_timesteps      | 6000        |\n",
      "| train/                  |             |\n",
      "|    approx_kl            | 0.002263466 |\n",
      "|    clip_fraction        | 0.00664     |\n",
      "|    clip_range           | 0.2         |\n",
      "|    entropy_loss         | -1.42       |\n",
      "|    explained_variance   | -0.156      |\n",
      "|    learning_rate        | 3e-05       |\n",
      "|    loss                 | -0.0189     |\n",
      "|    n_updates            | 20          |\n",
      "|    policy_gradient_loss | -0.00778    |\n",
      "|    std                  | 1           |\n",
      "|    value_loss           | 0.00374     |\n",
      "-----------------------------------------\n"
     ]
    },
    {
     "name": "stdout",
     "output_type": "stream",
     "text": [
      "New best mean reward!\n"
     ]
    },
    {
     "name": "stdout",
     "output_type": "stream",
     "text": [
      "---------------------------------\n",
      "| rollout/           |          |\n",
      "|    ep_len_mean     | 856      |\n",
      "|    ep_rew_mean     | 0.2      |\n",
      "| time/              |          |\n",
      "|    fps             | 336      |\n",
      "|    iterations      | 3        |\n",
      "|    time_elapsed    | 18       |\n",
      "|    total_timesteps | 6144     |\n",
      "---------------------------------\n"
     ]
    },
    {
     "name": "stdout",
     "output_type": "stream",
     "text": [
      "Eval num_timesteps=8000, episode_reward=0.34 +/- 0.00\n",
      "Episode length: 182.00 +/- 0.00\n",
      "------------------------------------------\n",
      "| eval/                   |              |\n",
      "|    mean_ep_length       | 182          |\n",
      "|    mean_reward          | 0.338        |\n",
      "| time/                   |              |\n",
      "|    total_timesteps      | 8000         |\n",
      "| train/                  |              |\n",
      "|    approx_kl            | 0.0024400523 |\n",
      "|    clip_fraction        | 0.00771      |\n",
      "|    clip_range           | 0.2          |\n",
      "|    entropy_loss         | -1.42        |\n",
      "|    explained_variance   | -0.173       |\n",
      "|    learning_rate        | 3e-05        |\n",
      "|    loss                 | -0.0291      |\n",
      "|    n_updates            | 30           |\n",
      "|    policy_gradient_loss | -0.00542     |\n",
      "|    std                  | 1            |\n",
      "|    value_loss           | 0.00216      |\n",
      "------------------------------------------\n"
     ]
    },
    {
     "name": "stdout",
     "output_type": "stream",
     "text": [
      "New best mean reward!\n"
     ]
    },
    {
     "name": "stdout",
     "output_type": "stream",
     "text": [
      "---------------------------------\n",
      "| rollout/           |          |\n",
      "|    ep_len_mean     | 856      |\n",
      "|    ep_rew_mean     | 0.39     |\n",
      "| time/              |          |\n",
      "|    fps             | 316      |\n",
      "|    iterations      | 4        |\n",
      "|    time_elapsed    | 25       |\n",
      "|    total_timesteps | 8192     |\n",
      "---------------------------------\n"
     ]
    },
    {
     "name": "stdout",
     "output_type": "stream",
     "text": [
      "Eval num_timesteps=10000, episode_reward=0.52 +/- 0.00\n",
      "Episode length: 182.00 +/- 0.00\n",
      "------------------------------------------\n",
      "| eval/                   |              |\n",
      "|    mean_ep_length       | 182          |\n",
      "|    mean_reward          | 0.521        |\n",
      "| time/                   |              |\n",
      "|    total_timesteps      | 10000        |\n",
      "| train/                  |              |\n",
      "|    approx_kl            | 0.0036687856 |\n",
      "|    clip_fraction        | 0.0145       |\n",
      "|    clip_range           | 0.2          |\n",
      "|    entropy_loss         | -1.42        |\n",
      "|    explained_variance   | 0.0534       |\n",
      "|    learning_rate        | 3e-05        |\n",
      "|    loss                 | -0.0223      |\n",
      "|    n_updates            | 40           |\n",
      "|    policy_gradient_loss | -0.00667     |\n",
      "|    std                  | 0.999        |\n",
      "|    value_loss           | 0.00287      |\n",
      "------------------------------------------\n"
     ]
    },
    {
     "name": "stdout",
     "output_type": "stream",
     "text": [
      "New best mean reward!\n"
     ]
    },
    {
     "name": "stdout",
     "output_type": "stream",
     "text": [
      "---------------------------------\n",
      "| rollout/           |          |\n",
      "|    ep_len_mean     | 856      |\n",
      "|    ep_rew_mean     | 0.606    |\n",
      "| time/              |          |\n",
      "|    fps             | 310      |\n",
      "|    iterations      | 5        |\n",
      "|    time_elapsed    | 32       |\n",
      "|    total_timesteps | 10240    |\n",
      "---------------------------------\n"
     ]
    },
    {
     "name": "stdout",
     "output_type": "stream",
     "text": [
      "Eval num_timesteps=12000, episode_reward=0.72 +/- 0.00\n",
      "Episode length: 182.00 +/- 0.00\n",
      "-----------------------------------------\n",
      "| eval/                   |             |\n",
      "|    mean_ep_length       | 182         |\n",
      "|    mean_reward          | 0.718       |\n",
      "| time/                   |             |\n",
      "|    total_timesteps      | 12000       |\n",
      "| train/                  |             |\n",
      "|    approx_kl            | 0.005088047 |\n",
      "|    clip_fraction        | 0.0228      |\n",
      "|    clip_range           | 0.2         |\n",
      "|    entropy_loss         | -1.42       |\n",
      "|    explained_variance   | 0.229       |\n",
      "|    learning_rate        | 3e-05       |\n",
      "|    loss                 | -0.0226     |\n",
      "|    n_updates            | 50          |\n",
      "|    policy_gradient_loss | -0.00727    |\n",
      "|    std                  | 0.999       |\n",
      "|    value_loss           | 0.00229     |\n",
      "-----------------------------------------\n"
     ]
    },
    {
     "name": "stdout",
     "output_type": "stream",
     "text": [
      "New best mean reward!\n"
     ]
    },
    {
     "name": "stdout",
     "output_type": "stream",
     "text": [
      "---------------------------------\n",
      "| rollout/           |          |\n",
      "|    ep_len_mean     | 856      |\n",
      "|    ep_rew_mean     | 0.904    |\n",
      "| time/              |          |\n",
      "|    fps             | 306      |\n",
      "|    iterations      | 6        |\n",
      "|    time_elapsed    | 40       |\n",
      "|    total_timesteps | 12288    |\n",
      "---------------------------------\n"
     ]
    },
    {
     "name": "stdout",
     "output_type": "stream",
     "text": [
      "Eval num_timesteps=14000, episode_reward=0.88 +/- 0.00\n",
      "Episode length: 182.00 +/- 0.00\n",
      "------------------------------------------\n",
      "| eval/                   |              |\n",
      "|    mean_ep_length       | 182          |\n",
      "|    mean_reward          | 0.876        |\n",
      "| time/                   |              |\n",
      "|    total_timesteps      | 14000        |\n",
      "| train/                  |              |\n",
      "|    approx_kl            | 0.0035393056 |\n",
      "|    clip_fraction        | 0.0161       |\n",
      "|    clip_range           | 0.2          |\n",
      "|    entropy_loss         | -1.42        |\n",
      "|    explained_variance   | 0.319        |\n",
      "|    learning_rate        | 3e-05        |\n",
      "|    loss                 | -0.0336      |\n",
      "|    n_updates            | 60           |\n",
      "|    policy_gradient_loss | -0.00481     |\n",
      "|    std                  | 0.997        |\n",
      "|    value_loss           | 0.00296      |\n",
      "------------------------------------------\n"
     ]
    },
    {
     "name": "stdout",
     "output_type": "stream",
     "text": [
      "New best mean reward!\n"
     ]
    },
    {
     "name": "stdout",
     "output_type": "stream",
     "text": [
      "---------------------------------\n",
      "| rollout/           |          |\n",
      "|    ep_len_mean     | 856      |\n",
      "|    ep_rew_mean     | 1.09     |\n",
      "| time/              |          |\n",
      "|    fps             | 302      |\n",
      "|    iterations      | 7        |\n",
      "|    time_elapsed    | 47       |\n",
      "|    total_timesteps | 14336    |\n",
      "---------------------------------\n"
     ]
    },
    {
     "name": "stdout",
     "output_type": "stream",
     "text": [
      "Eval num_timesteps=16000, episode_reward=1.04 +/- 0.00\n",
      "Episode length: 182.00 +/- 0.00\n",
      "-----------------------------------------\n",
      "| eval/                   |             |\n",
      "|    mean_ep_length       | 182         |\n",
      "|    mean_reward          | 1.04        |\n",
      "| time/                   |             |\n",
      "|    total_timesteps      | 16000       |\n",
      "| train/                  |             |\n",
      "|    approx_kl            | 0.004653607 |\n",
      "|    clip_fraction        | 0.024       |\n",
      "|    clip_range           | 0.2         |\n",
      "|    entropy_loss         | -1.42       |\n",
      "|    explained_variance   | 0.331       |\n",
      "|    learning_rate        | 3e-05       |\n",
      "|    loss                 | -0.0224     |\n",
      "|    n_updates            | 70          |\n",
      "|    policy_gradient_loss | -0.00616    |\n",
      "|    std                  | 0.997       |\n",
      "|    value_loss           | 0.00696     |\n",
      "-----------------------------------------\n"
     ]
    },
    {
     "name": "stdout",
     "output_type": "stream",
     "text": [
      "New best mean reward!\n"
     ]
    },
    {
     "name": "stdout",
     "output_type": "stream",
     "text": [
      "---------------------------------\n",
      "| rollout/           |          |\n",
      "|    ep_len_mean     | 856      |\n",
      "|    ep_rew_mean     | 1.38     |\n",
      "| time/              |          |\n",
      "|    fps             | 299      |\n",
      "|    iterations      | 8        |\n",
      "|    time_elapsed    | 54       |\n",
      "|    total_timesteps | 16384    |\n",
      "---------------------------------\n"
     ]
    },
    {
     "name": "stdout",
     "output_type": "stream",
     "text": [
      "Eval num_timesteps=18000, episode_reward=1.09 +/- 0.00\n",
      "Episode length: 182.00 +/- 0.00\n",
      "------------------------------------------\n",
      "| eval/                   |              |\n",
      "|    mean_ep_length       | 182          |\n",
      "|    mean_reward          | 1.09         |\n",
      "| time/                   |              |\n",
      "|    total_timesteps      | 18000        |\n",
      "| train/                  |              |\n",
      "|    approx_kl            | 0.0051844446 |\n",
      "|    clip_fraction        | 0.0211       |\n",
      "|    clip_range           | 0.2          |\n",
      "|    entropy_loss         | -1.42        |\n",
      "|    explained_variance   | 0.45         |\n",
      "|    learning_rate        | 3e-05        |\n",
      "|    loss                 | -0.00825     |\n",
      "|    n_updates            | 80           |\n",
      "|    policy_gradient_loss | -0.00375     |\n",
      "|    std                  | 0.998        |\n",
      "|    value_loss           | 0.00504      |\n",
      "------------------------------------------\n"
     ]
    },
    {
     "name": "stdout",
     "output_type": "stream",
     "text": [
      "New best mean reward!\n"
     ]
    },
    {
     "name": "stdout",
     "output_type": "stream",
     "text": [
      "---------------------------------\n",
      "| rollout/           |          |\n",
      "|    ep_len_mean     | 856      |\n",
      "|    ep_rew_mean     | 1.56     |\n",
      "| time/              |          |\n",
      "|    fps             | 295      |\n",
      "|    iterations      | 9        |\n",
      "|    time_elapsed    | 62       |\n",
      "|    total_timesteps | 18432    |\n",
      "---------------------------------\n"
     ]
    },
    {
     "name": "stdout",
     "output_type": "stream",
     "text": [
      "Eval num_timesteps=20000, episode_reward=1.13 +/- 0.00\n",
      "Episode length: 182.00 +/- 0.00\n",
      "------------------------------------------\n",
      "| eval/                   |              |\n",
      "|    mean_ep_length       | 182          |\n",
      "|    mean_reward          | 1.13         |\n",
      "| time/                   |              |\n",
      "|    total_timesteps      | 20000        |\n",
      "| train/                  |              |\n",
      "|    approx_kl            | 0.0012952178 |\n",
      "|    clip_fraction        | 0.000146     |\n",
      "|    clip_range           | 0.2          |\n",
      "|    entropy_loss         | -1.42        |\n",
      "|    explained_variance   | 0.446        |\n",
      "|    learning_rate        | 3e-05        |\n",
      "|    loss                 | -0.016       |\n",
      "|    n_updates            | 90           |\n",
      "|    policy_gradient_loss | -0.000787    |\n",
      "|    std                  | 0.997        |\n",
      "|    value_loss           | 0.00822      |\n",
      "------------------------------------------\n"
     ]
    },
    {
     "name": "stdout",
     "output_type": "stream",
     "text": [
      "New best mean reward!\n"
     ]
    },
    {
     "name": "stdout",
     "output_type": "stream",
     "text": [
      "---------------------------------\n",
      "| rollout/           |          |\n",
      "|    ep_len_mean     | 856      |\n",
      "|    ep_rew_mean     | 1.73     |\n",
      "| time/              |          |\n",
      "|    fps             | 293      |\n",
      "|    iterations      | 10       |\n",
      "|    time_elapsed    | 69       |\n",
      "|    total_timesteps | 20480    |\n",
      "---------------------------------\n"
     ]
    },
    {
     "name": "stdout",
     "output_type": "stream",
     "text": [
      "PPO Training done. Model saved to E:/project\\outputs\\models\\ppo_continuous_gamma095\n"
     ]
    },
    {
     "name": "stdout",
     "output_type": "stream",
     "text": [
      "PPO training reward plot saved to E:/project\\outputs\\logs\\ppo_continuous_gamma095\\ppo_gamma095_training_rewards.png\n"
     ]
    },
    {
     "data": {
      "image/png": "[encoded data removed]",
      "text/plain": [
       "<Figure size 1000x500 with 1 Axes>"
      ]
     },
     "metadata": {},
     "output_type": "display_data"
    }
   ],
   "source": [
    "import os\n",
    "import sys\n",
    "import numpy as np\n",
    "import pandas as pd\n",
    "import matplotlib.pyplot as plt\n",
    "\n",
    "from stable_baselines3 import PPO\n",
    "from stable_baselines3.common.callbacks import EvalCallback\n",
    "from stable_baselines3.common.monitor import Monitor\n",
    "from stable_baselines3.common.vec_env import DummyVecEnv\n",
    "from stable_baselines3.common.results_plotter import load_results # fixed - more columns error\n",
    "\n",
    "# Import custom env\n",
    "PROJECT_ROOT = \"E:/project\"\n",
    "if PROJECT_ROOT not in sys.path:\n",
    "    sys.path.insert(0, PROJECT_ROOT)\n",
    "\n",
    "from envs.trading_env_continuous import TradingEnvContinuous\n",
    "\n",
    "# Paths\n",
    "DATA_PATH = os.path.join(PROJECT_ROOT, \"outputs\", \"datasets\", \"states_v1_single_asset.npz\")\n",
    "SAVE_DIR = os.path.join(PROJECT_ROOT, \"outputs\", \"models\", \"ppo_continuous_gamma095\")\n",
    "LOG_DIR = os.path.join(PROJECT_ROOT, \"outputs\", \"logs\", \"ppo_continuous_gamma095\")\n",
    "\n",
    "os.makedirs(SAVE_DIR, exist_ok=True)\n",
    "os.makedirs(LOG_DIR, exist_ok=True)\n",
    "\n",
    "# Load data\n",
    "data = np.load(DATA_PATH)\n",
    "X_train, X_val = data[\"X_train\"], data[\"X_val\"]\n",
    "prices_train, prices_val = data[\"prices\"][:len(X_train)], data[\"prices\"][len(X_train):len(X_train)+len(X_val)]\n",
    "\n",
    "# Create environments\n",
    "train_env = DummyVecEnv([lambda: Monitor(TradingEnvContinuous(X_train, prices_train, reward_type=\"log_return\"), LOG_DIR)])\n",
    "val_env = DummyVecEnv([lambda: Monitor(TradingEnvContinuous(X_val, prices_val, reward_type=\"log_return\"), LOG_DIR)])\n",
    "\n",
    "\n",
    "# Callbacks\n",
    "eval_callback = EvalCallback(\n",
    "    val_env,\n",
    "    best_model_save_path=SAVE_DIR,\n",
    "    log_path=LOG_DIR,\n",
    "    eval_freq=2000,\n",
    "    deterministic=True,\n",
    "    render=False\n",
    ")\n",
    "\n",
    "# Train PPO Agent\n",
    "\n",
    "# best hyperparameters for PPO (Continuous env)\n",
    "model = PPO(\n",
    "    \"MlpPolicy\",\n",
    "    train_env,\n",
    "    learning_rate=3e-5,         # small LR for stable convergence\n",
    "    n_steps=2048,              # batch length\n",
    "    batch_size=64,             # mini-batch size\n",
    "    n_epochs=10,               # number of passes per update\n",
    "    gamma=0.99,                # discount factor\n",
    "    gae_lambda=0.95,           # advantage estimation\n",
    "    clip_range=0.2,            # PPO clipping\n",
    "    ent_coef=0.01,             # encourage exploration\n",
    "    verbose=1,\n",
    "    tensorboard_log=LOG_DIR\n",
    ")\n",
    "\n",
    "\n",
    "\n",
    "print(\"Starting PPO training...\")\n",
    "model.learn(total_timesteps=20000, callback=eval_callback)\n",
    "model.save(os.path.join(SAVE_DIR, \"ppo_final\"))\n",
    "print(f\"PPO Training done. Model saved to {SAVE_DIR}\")\n",
    "\n",
    "\n",
    "# Plot Training Rewards\n",
    "\n",
    "results_file = os.path.join(LOG_DIR, \"monitor.csv\")\n",
    "if os.path.exists(results_file):\n",
    "    # load monitor.csv file\n",
    "    df = load_results(LOG_DIR) # fixed error more columns more than 3\n",
    "\n",
    "    # Convert to numeric safely\n",
    "    df = df.apply(pd.to_numeric, errors=\"coerce\")\n",
    "\n",
    "    timesteps = df[\"l\"].cumsum()\n",
    "    rewards = df[\"r\"]\n",
    "\n",
    "    # --- Plot ---\n",
    "    plt.figure(figsize=(10, 5))\n",
    "    plt.plot(timesteps, rewards, label=\"Episode Reward\")\n",
    "    plt.xlabel(\"Timestep\")\n",
    "    plt.ylabel(\"Reward\")\n",
    "    plt.title(\"PPO Best hyper parameters - Training reward(Continuous Env)\")\n",
    "    plt.legend()\n",
    "    plt.grid(True)\n",
    "\n",
    "    plot_path = os.path.join(LOG_DIR, \"ppo_best_hyperparameters_training_rewards.png\")\n",
    "    plt.savefig(plot_path)\n",
    "    print(f\"PPO training reward plot saved to {plot_path}\")\n"
   ]
  },
  {
   "cell_type": "code",
   "execution_count": null,
   "id": "5ebe6058-893c-40de-a0cb-6535c634ede7",
   "metadata": {},
   "outputs": [],
   "source": []
  }
 ],
 "metadata": {
  "kernelspec": {
   "display_name": "Python 3 (ipykernel)",
   "language": "python",
   "name": "python3"
  },
  "language_info": {
   "codemirror_mode": {
    "name": "ipython",
    "version": 3
   },
   "file_extension": ".py",
   "mimetype": "text/x-python",
   "name": "python",
   "nbconvert_exporter": "python",
   "pygments_lexer": "ipython3",
   "version": "3.13.7"
  }
 },
 "nbformat": 4,
 "nbformat_minor": 5
}
